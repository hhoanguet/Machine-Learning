{
 "cells": [
  {
   "cell_type": "code",
   "execution_count": 1,
   "metadata": {
    "_cell_guid": "b1076dfc-b9ad-4769-8c92-a6c4dae69d19",
    "_uuid": "8f2839f25d086af736a60e9eeb907d3b93b6e0e5",
    "execution": {
     "iopub.execute_input": "2021-05-23T01:46:21.858916Z",
     "iopub.status.busy": "2021-05-23T01:46:21.858620Z",
     "iopub.status.idle": "2021-05-23T01:46:23.523954Z",
     "shell.execute_reply": "2021-05-23T01:46:23.522893Z",
     "shell.execute_reply.started": "2021-05-23T01:46:21.858880Z"
    }
   },
   "outputs": [],
   "source": [
    "import pandas as pd\n",
    "import numpy as np\n",
    "import multiprocessing\n",
    "import warnings\n",
    "import matplotlib.pyplot as plt\n",
    "import seaborn as sns\n",
    "import lightgbm as lgb\n",
    "import gc\n",
    "from time import time\n",
    "import datetime\n",
    "from tqdm import tqdm_notebook\n",
    "from sklearn.preprocessing import LabelEncoder\n",
    "from sklearn.model_selection import KFold, TimeSeriesSplit\n",
    "from sklearn.metrics import roc_auc_score\n",
    "warnings.simplefilter('ignore')\n",
    "sns.set()\n",
    "%matplotlib inline"
   ]
  },
  {
   "cell_type": "code",
   "execution_count": 2,
   "metadata": {
    "_cell_guid": "79c7e3d0-c299-4dcb-8224-4455121ee9b0",
    "_uuid": "d629ff2d2480ee46fbb7e2d37f6b5fab8052498a",
    "execution": {
     "iopub.execute_input": "2021-05-23T01:46:23.526385Z",
     "iopub.status.busy": "2021-05-23T01:46:23.526069Z",
     "iopub.status.idle": "2021-05-23T01:46:23.530635Z",
     "shell.execute_reply": "2021-05-23T01:46:23.529851Z",
     "shell.execute_reply.started": "2021-05-23T01:46:23.526331Z"
    }
   },
   "outputs": [],
   "source": [
    "files = ['../input/test_identity.csv', \n",
    "         '../input/test_transaction.csv',\n",
    "         '../input/train_identity.csv',\n",
    "         '../input/train_transaction.csv',\n",
    "         '../input/sample_submission.csv']"
   ]
  },
  {
   "cell_type": "code",
   "execution_count": 3,
   "metadata": {
    "execution": {
     "iopub.execute_input": "2021-05-23T01:46:23.532775Z",
     "iopub.status.busy": "2021-05-23T01:46:23.532463Z",
     "iopub.status.idle": "2021-05-23T01:47:23.256813Z",
     "shell.execute_reply": "2021-05-23T01:47:23.255292Z",
     "shell.execute_reply.started": "2021-05-23T01:46:23.532721Z"
    }
   },
   "outputs": [
    {
     "name": "stdout",
     "output_type": "stream",
     "text": [
      "CPU times: user 3.87 s, sys: 8.31 s, total: 12.2 s\n",
      "Wall time: 56.4 s\n"
     ]
    }
   ],
   "source": [
    "%%time\n",
    "def load_data(file):\n",
    "    return pd.read_csv(file)\n",
    "\n",
    "with multiprocessing.Pool() as pool:\n",
    "    test_id, test_tr, train_id, train_tr, sub = pool.map(load_data, files)"
   ]
  },
  {
   "cell_type": "code",
   "execution_count": 4,
   "metadata": {
    "execution": {
     "iopub.execute_input": "2021-05-23T01:47:23.261249Z",
     "iopub.status.busy": "2021-05-23T01:47:23.260736Z",
     "iopub.status.idle": "2021-05-23T01:47:46.909139Z",
     "shell.execute_reply": "2021-05-23T01:47:46.908118Z",
     "shell.execute_reply.started": "2021-05-23T01:47:23.261172Z"
    }
   },
   "outputs": [
    {
     "data": {
      "text/plain": [
       "71"
      ]
     },
     "execution_count": 4,
     "metadata": {},
     "output_type": "execute_result"
    }
   ],
   "source": [
    "train = pd.merge(train_tr, train_id, on='TransactionID', how='left')\n",
    "test = pd.merge(test_tr, test_id, on='TransactionID', how='left')\n",
    "\n",
    "del test_id, test_tr, train_id, train_tr\n",
    "gc.collect()"
   ]
  },
  {
   "cell_type": "code",
   "execution_count": 5,
   "metadata": {
    "execution": {
     "iopub.execute_input": "2021-05-23T01:47:46.912604Z",
     "iopub.status.busy": "2021-05-23T01:47:46.912310Z",
     "iopub.status.idle": "2021-05-23T01:47:50.176495Z",
     "shell.execute_reply": "2021-05-23T01:47:50.175554Z",
     "shell.execute_reply.started": "2021-05-23T01:47:46.912559Z"
    }
   },
   "outputs": [],
   "source": [
    "rename_id_cols = {}\n",
    "for col in test.columns:\n",
    "    if col.startswith('id'):\n",
    "        rename_id_cols[col] = '_'.join(col.split('-'))\n",
    "test.rename(columns=rename_id_cols, inplace=True)"
   ]
  },
  {
   "cell_type": "markdown",
   "metadata": {},
   "source": [
    "# **Select 159 useful features based on recursive feature elimination notebook**"
   ]
  },
  {
   "cell_type": "code",
   "execution_count": 6,
   "metadata": {
    "execution": {
     "iopub.execute_input": "2021-05-23T01:47:50.178517Z",
     "iopub.status.busy": "2021-05-23T01:47:50.178263Z",
     "iopub.status.idle": "2021-05-23T01:47:50.191811Z",
     "shell.execute_reply": "2021-05-23T01:47:50.190806Z",
     "shell.execute_reply.started": "2021-05-23T01:47:50.178474Z"
    }
   },
   "outputs": [],
   "source": [
    "useful_features = ['TransactionAmt', 'ProductCD', 'card1', 'card2', 'card3', 'card4', 'card5', 'card6', 'addr1', 'dist1',\n",
    "                   'P_emaildomain', 'R_emaildomain', 'C1', 'C2', 'C4', 'C5', 'C6', 'C7', 'C8', 'C9', 'C10', 'C11', 'C12', 'C13',\n",
    "                   'C14', 'D1', 'D2', 'D3', 'D4', 'D5', 'D6', 'D8', 'D9', 'D10', 'D11', 'D12', 'D13', 'D14', 'D15', 'M2', 'M3',\n",
    "                   'M4', 'M5', 'M6', 'M8', 'M9', 'V4', 'V5', 'V12', 'V13', 'V19', 'V20', 'V30', 'V34', 'V35', 'V36',\n",
    "                   'V37', 'V38', 'V44', 'V45', 'V47', 'V53', 'V54', 'V56', 'V57', 'V58', 'V61', 'V62', 'V70', 'V74', 'V75', 'V76',\n",
    "                   'V78', 'V82', 'V83', 'V87', 'V91', 'V94', 'V96', 'V97', 'V99', 'V126', 'V127', 'V128', 'V130', 'V131', 'V139',\n",
    "                   'V143', 'V149', 'V152', 'V160', 'V165', 'V170', 'V187', 'V189', 'V201', 'V203', 'V204', '207', 'V208', 'V209',\n",
    "                   'V210', 'V212', 'V217', 'V221', 'V222', 'V234', 'V257', 'V258', 'V261', 'V264', 'V265', 'V266', 'V267', 'V268',\n",
    "                   'V271', 'V274', 'V275', 'V277', 'V278', 'V279', 'V280', 'V282', 'V283', 'V285', 'V287', 'V289', 'V291', 'V292',\n",
    "                   'V294', 'V306', 'V307', 'V308', 'V310', 'V312', 'V313', 'V314', 'V315', 'V317', 'V323', 'V324', 'V332', 'V333',\n",
    "                   'id_01', 'id_02', 'id_05', 'id_06', 'id_09', 'id_13', 'id_14', 'id_17', 'id_19', 'id_20', 'id_30', 'id_31',\n",
    "                   'id_33', 'id_38', 'DeviceType', 'DeviceInfo']"
   ]
  },
  {
   "cell_type": "code",
   "execution_count": 7,
   "metadata": {
    "execution": {
     "iopub.execute_input": "2021-05-23T01:47:50.194000Z",
     "iopub.status.busy": "2021-05-23T01:47:50.193723Z",
     "iopub.status.idle": "2021-05-23T01:47:50.207248Z",
     "shell.execute_reply": "2021-05-23T01:47:50.206330Z",
     "shell.execute_reply.started": "2021-05-23T01:47:50.193956Z"
    }
   },
   "outputs": [],
   "source": [
    "cols_to_drop = [col for col in train.columns if col not in useful_features]\n",
    "cols_to_drop.remove('isFraud')\n",
    "cols_to_drop.remove('TransactionID')\n",
    "cols_to_drop.remove('TransactionDT')"
   ]
  },
  {
   "cell_type": "code",
   "execution_count": 8,
   "metadata": {
    "execution": {
     "iopub.execute_input": "2021-05-23T01:47:50.209274Z",
     "iopub.status.busy": "2021-05-23T01:47:50.208892Z",
     "iopub.status.idle": "2021-05-23T01:47:53.987841Z",
     "shell.execute_reply": "2021-05-23T01:47:53.986897Z",
     "shell.execute_reply.started": "2021-05-23T01:47:50.209218Z"
    }
   },
   "outputs": [
    {
     "name": "stdout",
     "output_type": "stream",
     "text": [
      "273 features are going to be dropped for being useless\n"
     ]
    }
   ],
   "source": [
    "print('{} features are going to be dropped for being useless'.format(len(cols_to_drop)))\n",
    "\n",
    "train = train.drop(cols_to_drop, axis=1)\n",
    "test = test.drop(cols_to_drop, axis=1)"
   ]
  },
  {
   "cell_type": "markdown",
   "metadata": {},
   "source": [
    "# **Feature engineering**"
   ]
  },
  {
   "cell_type": "code",
   "execution_count": 9,
   "metadata": {
    "execution": {
     "iopub.execute_input": "2021-05-23T01:47:53.989534Z",
     "iopub.status.busy": "2021-05-23T01:47:53.989129Z",
     "iopub.status.idle": "2021-05-23T01:48:36.717511Z",
     "shell.execute_reply": "2021-05-23T01:48:36.716608Z",
     "shell.execute_reply.started": "2021-05-23T01:47:53.989343Z"
    }
   },
   "outputs": [],
   "source": [
    "# New feature - decimal part of the transaction amount\n",
    "train['TransactionAmt_decimal'] = ((train['TransactionAmt'] - train['TransactionAmt'].astype(int)) * 1000).astype(int)\n",
    "test['TransactionAmt_decimal'] = ((test['TransactionAmt'] - test['TransactionAmt'].astype(int)) * 1000).astype(int)\n",
    "\n",
    "# Count encoding for card1 feature. \n",
    "train['card1_count_full'] = train['card1'].map(pd.concat([train['card1'], test['card1']], ignore_index=True).value_counts(dropna=False))\n",
    "test['card1_count_full'] = test['card1'].map(pd.concat([train['card1'], test['card1']], ignore_index=True).value_counts(dropna=False))\n",
    "\n",
    "# https://www.kaggle.com/fchmiel/day-and-time-powerful-predictive-feature\n",
    "train['Transaction_day_of_week'] = np.floor((train['TransactionDT'] / (3600 * 24) - 1) % 7)\n",
    "test['Transaction_day_of_week'] = np.floor((test['TransactionDT'] / (3600 * 24) - 1) % 7)\n",
    "train['Transaction_hour'] = np.floor(train['TransactionDT'] / 3600) % 24\n",
    "test['Transaction_hour'] = np.floor(test['TransactionDT'] / 3600) % 24\n",
    "\n",
    "# Some features interaction\n",
    "for feature in ['id_02__id_20', 'id_02__D8', 'D11__DeviceInfo', 'DeviceInfo__P_emaildomain', 'P_emaildomain__C2', \n",
    "                'card2__dist1', 'card1__card5', 'card2__id_20', 'card5__P_emaildomain', 'addr1__card1']:\n",
    "\n",
    "    f1, f2 = feature.split('__')\n",
    "    train[feature] = train[f1].astype(str) + '_' + train[f2].astype(str)\n",
    "    test[feature] = test[f1].astype(str) + '_' + test[f2].astype(str)\n",
    "\n",
    "    le = LabelEncoder()\n",
    "    le.fit(list(train[feature].astype(str).values) + list(test[feature].astype(str).values))\n",
    "    train[feature] = le.transform(list(train[feature].astype(str).values))\n",
    "    test[feature] = le.transform(list(test[feature].astype(str).values))\n",
    "    \n",
    "for feature in ['id_34', 'id_36']:\n",
    "    if feature in useful_features:\n",
    "        # Count encoded for both train and test\n",
    "        train[feature + '_count_full'] = train[feature].map(pd.concat([train[feature], test[feature]], ignore_index=True).value_counts(dropna=False))\n",
    "        test[feature + '_count_full'] = test[feature].map(pd.concat([train[feature], test[feature]], ignore_index=True).value_counts(dropna=False))\n",
    "        \n",
    "for feature in ['id_01', 'id_31', 'id_33', 'id_35', 'id_36']:\n",
    "    if feature in useful_features:\n",
    "        # Count encoded separately for train and test\n",
    "        train[feature + '_count_dist'] = train[feature].map(train[feature].value_counts(dropna=False))\n",
    "        test[feature + '_count_dist'] = test[feature].map(test[feature].value_counts(dropna=False))"
   ]
  },
  {
   "cell_type": "code",
   "execution_count": 10,
   "metadata": {
    "execution": {
     "iopub.execute_input": "2021-05-23T01:48:36.720056Z",
     "iopub.status.busy": "2021-05-23T01:48:36.719673Z",
     "iopub.status.idle": "2021-05-23T01:49:16.411484Z",
     "shell.execute_reply": "2021-05-23T01:49:16.410735Z",
     "shell.execute_reply.started": "2021-05-23T01:48:36.719986Z"
    }
   },
   "outputs": [
    {
     "data": {
      "application/vnd.jupyter.widget-view+json": {
       "model_id": "9c8f2c99cdac434090ee38b7c81fc258",
       "version_major": 2,
       "version_minor": 0
      },
      "text/plain": [
       "HBox(children=(IntProgress(value=0, max=178), HTML(value='')))"
      ]
     },
     "metadata": {},
     "output_type": "display_data"
    },
    {
     "name": "stdout",
     "output_type": "stream",
     "text": [
      "\n"
     ]
    }
   ],
   "source": [
    "for col in tqdm_notebook(train.columns):\n",
    "    if train[col].dtype == 'object':\n",
    "        le = LabelEncoder()\n",
    "        le.fit(list(train[col].astype(str).values) + list(test[col].astype(str).values))\n",
    "        train[col] = le.transform(list(train[col].astype(str).values))\n",
    "        test[col] = le.transform(list(test[col].astype(str).values))   "
   ]
  },
  {
   "cell_type": "code",
   "execution_count": 11,
   "metadata": {
    "execution": {
     "iopub.execute_input": "2021-05-23T01:49:16.413435Z",
     "iopub.status.busy": "2021-05-23T01:49:16.413168Z",
     "iopub.status.idle": "2021-05-23T01:49:20.896574Z",
     "shell.execute_reply": "2021-05-23T01:49:20.895397Z",
     "shell.execute_reply.started": "2021-05-23T01:49:16.413375Z"
    }
   },
   "outputs": [],
   "source": [
    "X = train.sort_values('TransactionDT').drop(['isFraud', 'TransactionDT', 'TransactionID'], axis=1)\n",
    "y = train.sort_values('TransactionDT')['isFraud']\n",
    "test = test.sort_values('TransactionDT').drop(['TransactionDT', 'TransactionID'], axis=1)"
   ]
  },
  {
   "cell_type": "code",
   "execution_count": 12,
   "metadata": {
    "execution": {
     "iopub.execute_input": "2021-05-23T01:49:20.898300Z",
     "iopub.status.busy": "2021-05-23T01:49:20.897913Z",
     "iopub.status.idle": "2021-05-23T01:49:21.021063Z",
     "shell.execute_reply": "2021-05-23T01:49:21.020390Z",
     "shell.execute_reply.started": "2021-05-23T01:49:20.898230Z"
    }
   },
   "outputs": [
    {
     "data": {
      "text/plain": [
       "63"
      ]
     },
     "execution_count": 12,
     "metadata": {},
     "output_type": "execute_result"
    }
   ],
   "source": [
    "del train\n",
    "gc.collect()"
   ]
  },
  {
   "cell_type": "code",
   "execution_count": 13,
   "metadata": {
    "execution": {
     "iopub.execute_input": "2021-05-23T01:49:21.022686Z",
     "iopub.status.busy": "2021-05-23T01:49:21.022247Z",
     "iopub.status.idle": "2021-05-23T01:49:21.034565Z",
     "shell.execute_reply": "2021-05-23T01:49:21.033615Z",
     "shell.execute_reply.started": "2021-05-23T01:49:21.022636Z"
    }
   },
   "outputs": [
    {
     "data": {
      "text/plain": [
       "((590540, 175), (506691, 175))"
      ]
     },
     "execution_count": 13,
     "metadata": {},
     "output_type": "execute_result"
    }
   ],
   "source": [
    "X.shape, test.shape"
   ]
  },
  {
   "cell_type": "markdown",
   "metadata": {},
   "source": [
    "# **Using Bayesian optimization to get the parameters**"
   ]
  },
  {
   "cell_type": "code",
   "execution_count": 14,
   "metadata": {
    "execution": {
     "iopub.execute_input": "2021-05-23T01:49:21.036042Z",
     "iopub.status.busy": "2021-05-23T01:49:21.035811Z",
     "iopub.status.idle": "2021-05-23T01:49:21.045667Z",
     "shell.execute_reply": "2021-05-23T01:49:21.045123Z",
     "shell.execute_reply.started": "2021-05-23T01:49:21.036003Z"
    }
   },
   "outputs": [],
   "source": [
    "# https://www.kaggle.com/vincentlugat/ieee-lgb-bayesian-opt#2.-Bayesian-Optimisation\n",
    "params = {'num_leaves': 491,\n",
    "          'min_child_weight': 0.03454472573214212,\n",
    "          'feature_fraction': 0.3797454081646243,\n",
    "          'bagging_fraction': 0.4181193142567742,\n",
    "          'min_data_in_leaf': 106,\n",
    "          'objective': 'binary',\n",
    "          'max_depth': -1,\n",
    "          'learning_rate': 0.006883242363721497,\n",
    "          \"boosting_type\": \"gbdt\",\n",
    "          \"bagging_seed\": 11,\n",
    "          \"metric\": 'auc',\n",
    "          \"verbosity\": -1,\n",
    "          'reg_alpha': 0.3899927210061127,\n",
    "          'reg_lambda': 0.6485237330340494,\n",
    "          'random_state': 47\n",
    "         }"
   ]
  },
  {
   "cell_type": "code",
   "execution_count": 15,
   "metadata": {
    "execution": {
     "iopub.execute_input": "2021-05-23T01:49:21.047218Z",
     "iopub.status.busy": "2021-05-23T01:49:21.046780Z"
    }
   },
   "outputs": [
    {
     "name": "stdout",
     "output_type": "stream",
     "text": [
      "Training on fold 1\n",
      "Training until validation scores don't improve for 500 rounds.\n",
      "[1000]\ttraining's auc: 0.999998\tvalid_1's auc: 0.905407\n",
      "Early stopping, best iteration is:\n",
      "[834]\ttraining's auc: 0.99998\tvalid_1's auc: 0.905674\n",
      "Fold 1 finished in 0:02:13.828854\n",
      "Training on fold 2\n",
      "Training until validation scores don't improve for 500 rounds.\n",
      "[1000]\ttraining's auc: 0.999965\tvalid_1's auc: 0.923825\n",
      "Early stopping, best iteration is:\n",
      "[813]\ttraining's auc: 0.999804\tvalid_1's auc: 0.924367\n",
      "Fold 2 finished in 0:04:17.108624\n",
      "Training on fold 3\n",
      "Training until validation scores don't improve for 500 rounds.\n",
      "[1000]\ttraining's auc: 0.999532\tvalid_1's auc: 0.917039\n",
      "Early stopping, best iteration is:\n",
      "[1038]\ttraining's auc: 0.99963\tvalid_1's auc: 0.91712\n",
      "Fold 3 finished in 0:07:18.011092\n",
      "Training on fold 4\n",
      "Training until validation scores don't improve for 500 rounds.\n",
      "[1000]\ttraining's auc: 0.998097\tvalid_1's auc: 0.936899\n",
      "Early stopping, best iteration is:\n",
      "[1142]\ttraining's auc: 0.998951\tvalid_1's auc: 0.937072\n",
      "Fold 4 finished in 0:09:58.666704\n",
      "Training on fold 5\n",
      "Training until validation scores don't improve for 500 rounds.\n",
      "[1000]\ttraining's auc: 0.996302\tvalid_1's auc: 0.934507\n",
      "Early stopping, best iteration is:\n",
      "[1258]\ttraining's auc: 0.998402\tvalid_1's auc: 0.935033\n",
      "Fold 5 finished in 0:12:54.013472\n",
      "------------------------------\n",
      "Training has finished.\n",
      "Total training time is 0:36:41.634464\n",
      "Mean AUC: 0.923853402551978\n",
      "------------------------------\n"
     ]
    }
   ],
   "source": [
    "folds = TimeSeriesSplit(n_splits=5)\n",
    "\n",
    "aucs = list()\n",
    "feature_importances = pd.DataFrame()\n",
    "feature_importances['feature'] = X.columns\n",
    "\n",
    "training_start_time = time()\n",
    "for fold, (trn_idx, test_idx) in enumerate(folds.split(X, y)):\n",
    "    start_time = time()\n",
    "    print('Training on fold {}'.format(fold + 1))\n",
    "    \n",
    "    trn_data = lgb.Dataset(X.iloc[trn_idx], label=y.iloc[trn_idx])\n",
    "    val_data = lgb.Dataset(X.iloc[test_idx], label=y.iloc[test_idx])\n",
    "    clf = lgb.train(params, trn_data, 10000, valid_sets = [trn_data, val_data], verbose_eval=1000, early_stopping_rounds=500)\n",
    "    \n",
    "    feature_importances['fold_{}'.format(fold + 1)] = clf.feature_importance()\n",
    "    aucs.append(clf.best_score['valid_1']['auc'])\n",
    "    \n",
    "    print('Fold {} finished in {}'.format(fold + 1, str(datetime.timedelta(seconds=time() - start_time))))\n",
    "print('-' * 30)\n",
    "print('Training has finished.')\n",
    "print('Total training time is {}'.format(str(datetime.timedelta(seconds=time() - training_start_time))))\n",
    "print('Mean AUC:', np.mean(aucs))\n",
    "print('-' * 30)"
   ]
  },
  {
   "cell_type": "code",
   "execution_count": 16,
   "metadata": {},
   "outputs": [
    {
     "data": {
      "image/png": "[encoded data removed]",
      "text/plain": [
       "<Figure size 1152x1152 with 1 Axes>"
      ]
     },
     "metadata": {
      "needs_background": "light"
     },
     "output_type": "display_data"
    }
   ],
   "source": [
    "feature_importances['average'] = feature_importances[['fold_{}'.format(fold + 1) for fold in range(folds.n_splits)]].mean(axis=1)\n",
    "feature_importances.to_csv('feature_importances.csv')\n",
    "\n",
    "plt.figure(figsize=(16, 16))\n",
    "sns.barplot(data=feature_importances.sort_values(by='average', ascending=False).head(50), x='average', y='feature');\n",
    "plt.title('50 TOP feature importance over {} folds average'.format(folds.n_splits));"
   ]
  },
  {
   "cell_type": "code",
   "execution_count": 17,
   "metadata": {},
   "outputs": [],
   "source": [
    "# clf right now is the last model, trained with 80% of data and validated with 20%\n",
    "best_iter = clf.best_iteration"
   ]
  },
  {
   "cell_type": "code",
   "execution_count": 18,
   "metadata": {},
   "outputs": [
    {
     "data": {
      "text/plain": [
       "LGBMClassifier(bagging_fraction=0.4181193142567742, bagging_seed=11,\n",
       "               boosting_type='gbdt', class_weight=None, colsample_bytree=1.0,\n",
       "               feature_fraction=0.3797454081646243, importance_type='split',\n",
       "               learning_rate=0.006883242363721497, max_depth=-1, metric='auc',\n",
       "               min_child_samples=20, min_child_weight=0.03454472573214212,\n",
       "               min_data_in_leaf=106, min_split_gain=0.0, n_estimators=100,\n",
       "               n_jobs=-1, num_boost_round=1258, num_leaves=491,\n",
       "               objective='binary', random_state=47,\n",
       "               reg_alpha=0.3899927210061127, reg_lambda=0.6485237330340494,\n",
       "               silent=True, subsample=1.0, subsample_for_bin=200000,\n",
       "               subsample_freq=0, verbosity=-1)"
      ]
     },
     "execution_count": 18,
     "metadata": {},
     "output_type": "execute_result"
    }
   ],
   "source": [
    "clf = lgb.LGBMClassifier(**params, num_boost_round=best_iter)\n",
    "clf.fit(X, y)"
   ]
  },
  {
   "cell_type": "code",
   "execution_count": 19,
   "metadata": {},
   "outputs": [],
   "source": [
    "sub['isFraud'] = clf.predict_proba(test)[:, 1]"
   ]
  },
  {
   "cell_type": "code",
   "execution_count": 20,
   "metadata": {},
   "outputs": [],
   "source": [
    "sub.to_csv('LGBM_submission.csv', index=False)"
   ]
  }
 ],
 "metadata": {
  "kernelspec": {
   "display_name": "Python 3",
   "language": "python",
   "name": "python3"
  },
  "language_info": {
   "codemirror_mode": {
    "name": "ipython",
    "version": 3
   },
   "file_extension": ".py",
   "mimetype": "text/x-python",
   "name": "python",
   "nbconvert_exporter": "python",
   "pygments_lexer": "ipython3",
   "version": "3.6.6"
  },
  "widgets": {
   "application/vnd.jupyter.widget-state+json": {
    "state": {
     "053d1b8999184a27b895fc2c14db6b84": {
      "model_module": "@jupyter-widgets/controls",
      "model_module_version": "1.5.0",
      "model_name": "IntProgressModel",
      "state": {
       "_dom_classes": [],
       "_model_module": "@jupyter-widgets/controls",
       "_model_module_version": "1.5.0",
       "_model_name": "IntProgressModel",
       "_view_count": null,
       "_view_module": "@jupyter-widgets/controls",
       "_view_module_version": "1.5.0",
       "_view_name": "ProgressView",
       "bar_style": "success",
       "description": "",
       "description_tooltip": null,
       "layout": "IPY_MODEL_c22842be566e4363b18afe8067c6f30b",
       "max": 178,
       "min": 0,
       "orientation": "horizontal",
       "style": "IPY_MODEL_aabfcb9e5fbc4cc5bb6eff5e20ceb1c9",
       "value": 178
      }
     },
     "17a242bf38ad4804be7cf08f81377b94": {
      "model_module": "@jupyter-widgets/controls",
      "model_module_version": "1.5.0",
      "model_name": "HTMLModel",
      "state": {
       "_dom_classes": [],
       "_model_module": "@jupyter-widgets/controls",
       "_model_module_version": "1.5.0",
       "_model_name": "HTMLModel",
       "_view_count": null,
       "_view_module": "@jupyter-widgets/controls",
       "_view_module_version": "1.5.0",
       "_view_name": "HTMLView",
       "description": "",
       "description_tooltip": null,
       "layout": "IPY_MODEL_3e123aa102cf40e598aa3cb3ff189a02",
       "placeholder": "​",
       "style": "IPY_MODEL_4c306238a4314bf5911c1c05cc6b1bf6",
       "value": "100% 178/178 [00:41&lt;00:00,  4.29it/s]"
      }
     },
     "3e123aa102cf40e598aa3cb3ff189a02": {
      "model_module": "@jupyter-widgets/base",
      "model_module_version": "1.2.0",
      "model_name": "LayoutModel",
      "state": {
       "_model_module": "@jupyter-widgets/base",
       "_model_module_version": "1.2.0",
       "_model_name": "LayoutModel",
       "_view_count": null,
       "_view_module": "@jupyter-widgets/base",
       "_view_module_version": "1.2.0",
       "_view_name": "LayoutView",
       "align_content": null,
       "align_items": null,
       "align_self": null,
       "border": null,
       "bottom": null,
       "display": null,
       "flex": null,
       "flex_flow": null,
       "grid_area": null,
       "grid_auto_columns": null,
       "grid_auto_flow": null,
       "grid_auto_rows": null,
       "grid_column": null,
       "grid_gap": null,
       "grid_row": null,
       "grid_template_areas": null,
       "grid_template_columns": null,
       "grid_template_rows": null,
       "height": null,
       "justify_content": null,
       "justify_items": null,
       "left": null,
       "margin": null,
       "max_height": null,
       "max_width": null,
       "min_height": null,
       "min_width": null,
       "object_fit": null,
       "object_position": null,
       "order": null,
       "overflow": null,
       "overflow_x": null,
       "overflow_y": null,
       "padding": null,
       "right": null,
       "top": null,
       "visibility": null,
       "width": null
      }
     },
     "4c306238a4314bf5911c1c05cc6b1bf6": {
      "model_module": "@jupyter-widgets/controls",
      "model_module_version": "1.5.0",
      "model_name": "DescriptionStyleModel",
      "state": {
       "_model_module": "@jupyter-widgets/controls",
       "_model_module_version": "1.5.0",
       "_model_name": "DescriptionStyleModel",
       "_view_count": null,
       "_view_module": "@jupyter-widgets/base",
       "_view_module_version": "1.2.0",
       "_view_name": "StyleView",
       "description_width": ""
      }
     },
     "8c6b0630c2e94a94afbcc476a2975f04": {
      "model_module": "@jupyter-widgets/base",
      "model_module_version": "1.2.0",
      "model_name": "LayoutModel",
      "state": {
       "_model_module": "@jupyter-widgets/base",
       "_model_module_version": "1.2.0",
       "_model_name": "LayoutModel",
       "_view_count": null,
       "_view_module": "@jupyter-widgets/base",
       "_view_module_version": "1.2.0",
       "_view_name": "LayoutView",
       "align_content": null,
       "align_items": null,
       "align_self": null,
       "border": null,
       "bottom": null,
       "display": null,
       "flex": null,
       "flex_flow": null,
       "grid_area": null,
       "grid_auto_columns": null,
       "grid_auto_flow": null,
       "grid_auto_rows": null,
       "grid_column": null,
       "grid_gap": null,
       "grid_row": null,
       "grid_template_areas": null,
       "grid_template_columns": null,
       "grid_template_rows": null,
       "height": null,
       "justify_content": null,
       "justify_items": null,
       "left": null,
       "margin": null,
       "max_height": null,
       "max_width": null,
       "min_height": null,
       "min_width": null,
       "object_fit": null,
       "object_position": null,
       "order": null,
       "overflow": null,
       "overflow_x": null,
       "overflow_y": null,
       "padding": null,
       "right": null,
       "top": null,
       "visibility": null,
       "width": null
      }
     },
     "9c8f2c99cdac434090ee38b7c81fc258": {
      "model_module": "@jupyter-widgets/controls",
      "model_module_version": "1.5.0",
      "model_name": "HBoxModel",
      "state": {
       "_dom_classes": [],
       "_model_module": "@jupyter-widgets/controls",
       "_model_module_version": "1.5.0",
       "_model_name": "HBoxModel",
       "_view_count": null,
       "_view_module": "@jupyter-widgets/controls",
       "_view_module_version": "1.5.0",
       "_view_name": "HBoxView",
       "box_style": "",
       "children": [
        "IPY_MODEL_053d1b8999184a27b895fc2c14db6b84",
        "IPY_MODEL_17a242bf38ad4804be7cf08f81377b94"
       ],
       "layout": "IPY_MODEL_8c6b0630c2e94a94afbcc476a2975f04"
      }
     },
     "aabfcb9e5fbc4cc5bb6eff5e20ceb1c9": {
      "model_module": "@jupyter-widgets/controls",
      "model_module_version": "1.5.0",
      "model_name": "ProgressStyleModel",
      "state": {
       "_model_module": "@jupyter-widgets/controls",
       "_model_module_version": "1.5.0",
       "_model_name": "ProgressStyleModel",
       "_view_count": null,
       "_view_module": "@jupyter-widgets/base",
       "_view_module_version": "1.2.0",
       "_view_name": "StyleView",
       "bar_color": null,
       "description_width": ""
      }
     },
     "c22842be566e4363b18afe8067c6f30b": {
      "model_module": "@jupyter-widgets/base",
      "model_module_version": "1.2.0",
      "model_name": "LayoutModel",
      "state": {
       "_model_module": "@jupyter-widgets/base",
       "_model_module_version": "1.2.0",
       "_model_name": "LayoutModel",
       "_view_count": null,
       "_view_module": "@jupyter-widgets/base",
       "_view_module_version": "1.2.0",
       "_view_name": "LayoutView",
       "align_content": null,
       "align_items": null,
       "align_self": null,
       "border": null,
       "bottom": null,
       "display": null,
       "flex": null,
       "flex_flow": null,
       "grid_area": null,
       "grid_auto_columns": null,
       "grid_auto_flow": null,
       "grid_auto_rows": null,
       "grid_column": null,
       "grid_gap": null,
       "grid_row": null,
       "grid_template_areas": null,
       "grid_template_columns": null,
       "grid_template_rows": null,
       "height": null,
       "justify_content": null,
       "justify_items": null,
       "left": null,
       "margin": null,
       "max_height": null,
       "max_width": null,
       "min_height": null,
       "min_width": null,
       "object_fit": null,
       "object_position": null,
       "order": null,
       "overflow": null,
       "overflow_x": null,
       "overflow_y": null,
       "padding": null,
       "right": null,
       "top": null,
       "visibility": null,
       "width": null
      }
     }
    },
    "version_major": 2,
    "version_minor": 0
   }
  }
 },
 "nbformat": 4,
 "nbformat_minor": 4
}
