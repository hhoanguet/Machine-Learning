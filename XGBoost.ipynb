{
 "cells": [
  {
   "cell_type": "markdown",
   "metadata": {},
   "source": [
    "# Load Data\n",
    "We will load all the data except 219 V columns that were determined redundant by correlation analysis"
   ]
  },
  {
   "cell_type": "code",
   "execution_count": 38,
   "metadata": {
    "_kg_hide-input": true,
    "execution": {
     "iopub.execute_input": "2021-05-22T16:42:55.120749Z",
     "iopub.status.busy": "2021-05-22T16:42:55.120431Z",
     "iopub.status.idle": "2021-05-22T16:42:55.145331Z",
     "shell.execute_reply": "2021-05-22T16:42:55.144710Z",
     "shell.execute_reply.started": "2021-05-22T16:42:55.120695Z"
    }
   },
   "outputs": [],
   "source": [
    "import numpy as np, pandas as pd, os, gc\n",
    "from sklearn.model_selection import GroupKFold\n",
    "from sklearn.metrics import roc_auc_score\n",
    "import matplotlib.pyplot as plt\n",
    "import seaborn as sns\n",
    "\n",
    "# COLUMNS WITH STRINGS\n",
    "str_type = ['ProductCD', 'card4', 'card6', 'P_emaildomain', 'R_emaildomain','M1', 'M2', 'M3', 'M4','M5',\n",
    "            'M6', 'M7', 'M8', 'M9', 'id_12', 'id_15', 'id_16', 'id_23', 'id_27', 'id_28', 'id_29', 'id_30', \n",
    "            'id_31', 'id_33', 'id_34', 'id_35', 'id_36', 'id_37', 'id_38', 'DeviceType', 'DeviceInfo']\n",
    "str_type += ['id-12', 'id-15', 'id-16', 'id-23', 'id-27', 'id-28', 'id-29', 'id-30', \n",
    "            'id-31', 'id-33', 'id-34', 'id-35', 'id-36', 'id-37', 'id-38']\n",
    "\n",
    "# FIRST 53 COLUMNS\n",
    "cols = ['TransactionID', 'TransactionDT', 'TransactionAmt',\n",
    "       'ProductCD', 'card1', 'card2', 'card3', 'card4', 'card5', 'card6',\n",
    "       'addr1', 'addr2', 'dist1', 'dist2', 'P_emaildomain', 'R_emaildomain',\n",
    "       'C1', 'C2', 'C3', 'C4', 'C5', 'C6', 'C7', 'C8', 'C9', 'C10', 'C11',\n",
    "       'C12', 'C13', 'C14', 'D1', 'D2', 'D3', 'D4', 'D5', 'D6', 'D7', 'D8',\n",
    "       'D9', 'D10', 'D11', 'D12', 'D13', 'D14', 'D15', 'M1', 'M2', 'M3', 'M4',\n",
    "       'M5', 'M6', 'M7', 'M8', 'M9']\n",
    "\n",
    "# V COLUMNS TO LOAD DECIDED BY CORRELATION EDA\n",
    "# https://www.kaggle.com/cdeotte/eda-for-columns-v-and-id\n",
    "v =  [1, 3, 4, 6, 8, 11]\n",
    "v += [13, 14, 17, 20, 23, 26, 27, 30]\n",
    "v += [36, 37, 40, 41, 44, 47, 48]\n",
    "v += [54, 56, 59, 62, 65, 67, 68, 70]\n",
    "v += [76, 78, 80, 82, 86, 88, 89, 91]\n",
    "\n",
    "#v += [96, 98, 99, 104] #relates to groups, no NAN \n",
    "v += [107, 108, 111, 115, 117, 120, 121, 123] # maybe group, no NAN\n",
    "v += [124, 127, 129, 130, 136] # relates to groups, no NAN\n",
    "\n",
    "# LOTS OF NAN BELOW\n",
    "v += [138, 139, 142, 147, 156, 162] #b1\n",
    "v += [165, 160, 166] #b1\n",
    "v += [178, 176, 173, 182] #b2\n",
    "v += [187, 203, 205, 207, 215] #b2\n",
    "v += [169, 171, 175, 180, 185, 188, 198, 210, 209] #b2\n",
    "v += [218, 223, 224, 226, 228, 229, 235] #b3\n",
    "v += [240, 258, 257, 253, 252, 260, 261] #b3\n",
    "v += [264, 266, 267, 274, 277] #b3\n",
    "v += [220, 221, 234, 238, 250, 271] #b3\n",
    "\n",
    "v += [294, 284, 285, 286, 291, 297] # relates to grous, no NAN\n",
    "v += [303, 305, 307, 309, 310, 320] # relates to groups, no NAN\n",
    "v += [281, 283, 289, 296, 301, 314] # relates to groups, no NAN\n",
    "#v += [332, 325, 335, 338] # b4 lots NAN\n",
    "\n",
    "cols += ['V'+str(x) for x in v]\n",
    "dtypes = {}\n",
    "for c in cols+['id_0'+str(x) for x in range(1,10)]+['id_'+str(x) for x in range(10,34)]+\\\n",
    "    ['id-0'+str(x) for x in range(1,10)]+['id-'+str(x) for x in range(10,34)]:\n",
    "        dtypes[c] = 'float32'\n",
    "for c in str_type: dtypes[c] = 'category'"
   ]
  },
  {
   "cell_type": "code",
   "execution_count": 39,
   "metadata": {
    "execution": {
     "iopub.execute_input": "2021-05-22T16:42:55.148245Z",
     "iopub.status.busy": "2021-05-22T16:42:55.147800Z",
     "iopub.status.idle": "2021-05-22T16:43:24.787766Z",
     "shell.execute_reply": "2021-05-22T16:43:24.785842Z",
     "shell.execute_reply.started": "2021-05-22T16:42:55.148065Z"
    }
   },
   "outputs": [
    {
     "name": "stdout",
     "output_type": "stream",
     "text": [
      "Train shape (590540, 213) test shape (506691, 213)\n",
      "CPU times: user 28.4 s, sys: 1.2 s, total: 29.6 s\n",
      "Wall time: 29.6 s\n"
     ]
    }
   ],
   "source": [
    "%%time\n",
    "# LOAD TRAIN\n",
    "X_train = pd.read_csv('../input/ieee-fraud-detection/train_transaction.csv',index_col='TransactionID', dtype=dtypes, usecols=cols+['isFraud'])\n",
    "train_id = pd.read_csv('../input/ieee-fraud-detection/train_identity.csv',index_col='TransactionID', dtype=dtypes)\n",
    "X_train = X_train.merge(train_id, how='left', left_index=True, right_index=True)\n",
    "# LOAD TEST\n",
    "X_test = pd.read_csv('../input/ieee-fraud-detection/test_transaction.csv',index_col='TransactionID', dtype=dtypes, usecols=cols)\n",
    "test_id = pd.read_csv('../input/ieee-fraud-detection/test_identity.csv',index_col='TransactionID', dtype=dtypes)\n",
    "fix = {o:n for o, n in zip(test_id.columns, train_id.columns)}\n",
    "test_id.rename(columns=fix, inplace=True)\n",
    "X_test = X_test.merge(test_id, how='left', left_index=True, right_index=True)\n",
    "# TARGET\n",
    "y_train = X_train['isFraud'].copy()\n",
    "del train_id, test_id, X_train['isFraud']; x = gc.collect()\n",
    "# PRINT STATUS\n",
    "print('Train shape',X_train.shape,'test shape',X_test.shape)"
   ]
  },
  {
   "cell_type": "markdown",
   "metadata": {},
   "source": [
    "# Normalize D Columns\n",
    "The D Columns are \"time deltas\" from some point in the past. We will transform the D Columns into their point in the past. This will stop the D columns from increasing with time. The formula is `D15n = Transaction_Day - D15` and `Transaction_Day = TransactionDT/(24*60*60)`. Afterward we multiple this number by negative one."
   ]
  },
  {
   "cell_type": "code",
   "execution_count": 40,
   "metadata": {
    "execution": {
     "iopub.execute_input": "2021-05-22T16:43:24.789392Z",
     "iopub.status.busy": "2021-05-22T16:43:24.789135Z",
     "iopub.status.idle": "2021-05-22T16:43:30.606748Z",
     "shell.execute_reply": "2021-05-22T16:43:30.606111Z",
     "shell.execute_reply.started": "2021-05-22T16:43:24.789348Z"
    }
   },
   "outputs": [
    {
     "data": {
      "image/png": "[encoded data removed]",
      "text/plain": [
       "<Figure size 1080x360 with 1 Axes>"
      ]
     },
     "metadata": {
      "needs_background": "light"
     },
     "output_type": "display_data"
    }
   ],
   "source": [
    "# PLOT ORIGINAL D\n",
    "plt.figure(figsize=(15,5))\n",
    "plt.scatter(X_train.TransactionDT,X_train.D15)\n",
    "plt.title('Original D15')\n",
    "plt.xlabel('Time')\n",
    "plt.ylabel('D15')\n",
    "plt.show()"
   ]
  },
  {
   "cell_type": "code",
   "execution_count": 41,
   "metadata": {
    "execution": {
     "iopub.execute_input": "2021-05-22T16:43:30.608301Z",
     "iopub.status.busy": "2021-05-22T16:43:30.608018Z",
     "iopub.status.idle": "2021-05-22T16:43:30.664059Z",
     "shell.execute_reply": "2021-05-22T16:43:30.663357Z",
     "shell.execute_reply.started": "2021-05-22T16:43:30.608254Z"
    }
   },
   "outputs": [],
   "source": [
    "# NORMALIZE D COLUMNS\n",
    "for i in range(1,16):\n",
    "    if i in [1,2,3,5,9]: continue\n",
    "    X_train['D'+str(i)] =  X_train['D'+str(i)] - X_train.TransactionDT/np.float32(24*60*60)\n",
    "    X_test['D'+str(i)] = X_test['D'+str(i)] - X_test.TransactionDT/np.float32(24*60*60) "
   ]
  },
  {
   "cell_type": "code",
   "execution_count": 42,
   "metadata": {
    "execution": {
     "iopub.execute_input": "2021-05-22T16:43:30.667516Z",
     "iopub.status.busy": "2021-05-22T16:43:30.667219Z",
     "iopub.status.idle": "2021-05-22T16:43:36.296781Z",
     "shell.execute_reply": "2021-05-22T16:43:36.296102Z",
     "shell.execute_reply.started": "2021-05-22T16:43:30.667468Z"
    }
   },
   "outputs": [
    {
     "data": {
      "image/png": "[encoded data removed]",
      "text/plain": [
       "<Figure size 1080x360 with 1 Axes>"
      ]
     },
     "metadata": {
      "needs_background": "light"
     },
     "output_type": "display_data"
    }
   ],
   "source": [
    "# PLOT TRANSFORMED D\n",
    "plt.figure(figsize=(15,5))\n",
    "plt.scatter(X_train.TransactionDT,X_train.D15)\n",
    "plt.title('Transformed D15')\n",
    "plt.xlabel('Time')\n",
    "plt.ylabel('D15n')\n",
    "plt.show()"
   ]
  },
  {
   "cell_type": "code",
   "execution_count": 43,
   "metadata": {
    "_kg_hide-input": true,
    "execution": {
     "iopub.execute_input": "2021-05-22T16:43:36.299031Z",
     "iopub.status.busy": "2021-05-22T16:43:36.298770Z",
     "iopub.status.idle": "2021-05-22T16:43:39.267331Z",
     "shell.execute_reply": "2021-05-22T16:43:39.266530Z",
     "shell.execute_reply.started": "2021-05-22T16:43:36.298986Z"
    }
   },
   "outputs": [
    {
     "name": "stdout",
     "output_type": "stream",
     "text": [
      "CPU times: user 3.06 s, sys: 25.9 ms, total: 3.08 s\n",
      "Wall time: 2.96 s\n"
     ]
    }
   ],
   "source": [
    "%%time\n",
    "# LABEL ENCODE AND MEMORY REDUCE\n",
    "for i,f in enumerate(X_train.columns):\n",
    "    # FACTORIZE CATEGORICAL VARIABLES\n",
    "    if (np.str(X_train[f].dtype)=='category')|(X_train[f].dtype=='object'): \n",
    "        df_comb = pd.concat([X_train[f],X_test[f]],axis=0)\n",
    "        df_comb,_ = df_comb.factorize(sort=True)\n",
    "        if df_comb.max()>32000: print(f,'needs int32')\n",
    "        X_train[f] = df_comb[:len(X_train)].astype('int16')\n",
    "        X_test[f] = df_comb[len(X_train):].astype('int16')\n",
    "    # SHIFT ALL NUMERICS POSITIVE. SET NAN to -1\n",
    "    elif f not in ['TransactionAmt','TransactionDT']:\n",
    "        mn = np.min((X_train[f].min(),X_test[f].min()))\n",
    "        X_train[f] -= np.float32(mn)\n",
    "        X_test[f] -= np.float32(mn)\n",
    "        X_train[f].fillna(-1,inplace=True)\n",
    "        X_test[f].fillna(-1,inplace=True)"
   ]
  },
  {
   "cell_type": "markdown",
   "metadata": {},
   "source": [
    "# Encoding Functions\n",
    "Below are 5 encoding functions. (1) `encode_FE` does frequency encoding where it combines train and test first and then encodes. (2) `encode_LE` is a label encoded for categorical features (3) `encode_AG` makes aggregated features such as aggregated mean and std (4) `encode_CB` combines two columns (5) `encode_AG2` makes aggregated features where it counts how many unique values of one feature is within a group."
   ]
  },
  {
   "cell_type": "code",
   "execution_count": 44,
   "metadata": {
    "execution": {
     "iopub.execute_input": "2021-05-22T16:43:39.269152Z",
     "iopub.status.busy": "2021-05-22T16:43:39.268694Z",
     "iopub.status.idle": "2021-05-22T16:43:39.355045Z",
     "shell.execute_reply": "2021-05-22T16:43:39.354360Z",
     "shell.execute_reply.started": "2021-05-22T16:43:39.269092Z"
    }
   },
   "outputs": [],
   "source": [
    "# FREQUENCY ENCODE TOGETHER\n",
    "def encode_FE(df1, df2, cols):\n",
    "    for col in cols:\n",
    "        df = pd.concat([df1[col],df2[col]])\n",
    "        vc = df.value_counts(dropna=True, normalize=True).to_dict()\n",
    "        vc[-1] = -1\n",
    "        nm = col+'_FE'\n",
    "        df1[nm] = df1[col].map(vc)\n",
    "        df1[nm] = df1[nm].astype('float32')\n",
    "        df2[nm] = df2[col].map(vc)\n",
    "        df2[nm] = df2[nm].astype('float32')\n",
    "        print(nm,', ',end='')\n",
    "        \n",
    "# LABEL ENCODE\n",
    "def encode_LE(col,train=X_train,test=X_test,verbose=True):\n",
    "    df_comb = pd.concat([train[col],test[col]],axis=0)\n",
    "    df_comb,_ = df_comb.factorize(sort=True)\n",
    "    nm = col\n",
    "    if df_comb.max()>32000: \n",
    "        train[nm] = df_comb[:len(train)].astype('int32')\n",
    "        test[nm] = df_comb[len(train):].astype('int32')\n",
    "    else:\n",
    "        train[nm] = df_comb[:len(train)].astype('int16')\n",
    "        test[nm] = df_comb[len(train):].astype('int16')\n",
    "    del df_comb; x=gc.collect()\n",
    "    if verbose: print(nm,', ',end='')\n",
    "        \n",
    "# GROUP AGGREGATION MEAN AND STD\n",
    "# https://www.kaggle.com/kyakovlev/ieee-fe-with-some-eda\n",
    "def encode_AG(main_columns, uids, aggregations=['mean'], train_df=X_train, test_df=X_test, \n",
    "              fillna=True, usena=False):\n",
    "    # AGGREGATION OF MAIN WITH UID FOR GIVEN STATISTICS\n",
    "    for main_column in main_columns:  \n",
    "        for col in uids:\n",
    "            for agg_type in aggregations:\n",
    "                new_col_name = main_column+'_'+col+'_'+agg_type\n",
    "                temp_df = pd.concat([train_df[[col, main_column]], test_df[[col,main_column]]])\n",
    "                if usena: temp_df.loc[temp_df[main_column]==-1,main_column] = np.nan\n",
    "                temp_df = temp_df.groupby([col])[main_column].agg([agg_type]).reset_index().rename(\n",
    "                                                        columns={agg_type: new_col_name})\n",
    "\n",
    "                temp_df.index = list(temp_df[col])\n",
    "                temp_df = temp_df[new_col_name].to_dict()   \n",
    "\n",
    "                train_df[new_col_name] = train_df[col].map(temp_df).astype('float32')\n",
    "                test_df[new_col_name]  = test_df[col].map(temp_df).astype('float32')\n",
    "                \n",
    "                if fillna:\n",
    "                    train_df[new_col_name].fillna(-1,inplace=True)\n",
    "                    test_df[new_col_name].fillna(-1,inplace=True)\n",
    "                \n",
    "                print(\"'\"+new_col_name+\"'\",', ',end='')\n",
    "                \n",
    "# COMBINE FEATURES\n",
    "def encode_CB(col1,col2,df1=X_train,df2=X_test):\n",
    "    nm = col1+'_'+col2\n",
    "    df1[nm] = df1[col1].astype(str)+'_'+df1[col2].astype(str)\n",
    "    df2[nm] = df2[col1].astype(str)+'_'+df2[col2].astype(str) \n",
    "    encode_LE(nm,verbose=False)\n",
    "    print(nm,', ',end='')\n",
    "    \n",
    "# GROUP AGGREGATION NUNIQUE\n",
    "def encode_AG2(main_columns, uids, train_df=X_train, test_df=X_test):\n",
    "    for main_column in main_columns:  \n",
    "        for col in uids:\n",
    "            comb = pd.concat([train_df[[col]+[main_column]],test_df[[col]+[main_column]]],axis=0)\n",
    "            mp = comb.groupby(col)[main_column].agg(['nunique'])['nunique'].to_dict()\n",
    "            train_df[col+'_'+main_column+'_ct'] = train_df[col].map(mp).astype('float32')\n",
    "            test_df[col+'_'+main_column+'_ct'] = test_df[col].map(mp).astype('float32')\n",
    "            print(col+'_'+main_column+'_ct, ',end='')"
   ]
  },
  {
   "cell_type": "markdown",
   "metadata": {},
   "source": [
    "# Feature engineering"
   ]
  },
  {
   "cell_type": "code",
   "execution_count": 45,
   "metadata": {
    "execution": {
     "iopub.execute_input": "2021-05-22T16:43:39.357073Z",
     "iopub.status.busy": "2021-05-22T16:43:39.356601Z",
     "iopub.status.idle": "2021-05-22T16:44:11.845082Z",
     "shell.execute_reply": "2021-05-22T16:44:11.844242Z",
     "shell.execute_reply.started": "2021-05-22T16:43:39.356891Z"
    }
   },
   "outputs": [
    {
     "name": "stdout",
     "output_type": "stream",
     "text": [
      "cents, addr1_FE , card1_FE , card2_FE , card3_FE , P_emaildomain_FE , card1_addr1 , card1_addr1_P_emaildomain , card1_addr1_FE , card1_addr1_P_emaildomain_FE , 'TransactionAmt_card1_mean' , 'TransactionAmt_card1_std' , 'TransactionAmt_card1_addr1_mean' , 'TransactionAmt_card1_addr1_std' , 'TransactionAmt_card1_addr1_P_emaildomain_mean' , 'TransactionAmt_card1_addr1_P_emaildomain_std' , 'D9_card1_mean' , 'D9_card1_std' , 'D9_card1_addr1_mean' , 'D9_card1_addr1_std' , 'D9_card1_addr1_P_emaildomain_mean' , 'D9_card1_addr1_P_emaildomain_std' , 'D11_card1_mean' , 'D11_card1_std' , 'D11_card1_addr1_mean' , 'D11_card1_addr1_std' , 'D11_card1_addr1_P_emaildomain_mean' , 'D11_card1_addr1_P_emaildomain_std' , "
     ]
    }
   ],
   "source": [
    "# TRANSACTION AMT CENTS\n",
    "X_train['cents'] = (X_train['TransactionAmt'] - np.floor(X_train['TransactionAmt'])).astype('float32')\n",
    "X_test['cents'] = (X_test['TransactionAmt'] - np.floor(X_test['TransactionAmt'])).astype('float32')\n",
    "print('cents, ', end='')\n",
    "# FREQUENCY ENCODE: ADDR1, CARD1, CARD2, CARD3, P_EMAILDOMAIN\n",
    "encode_FE(X_train,X_test,['addr1','card1','card2','card3','P_emaildomain'])\n",
    "# COMBINE COLUMNS CARD1+ADDR1, CARD1+ADDR1+P_EMAILDOMAIN\n",
    "encode_CB('card1','addr1')\n",
    "encode_CB('card1_addr1','P_emaildomain')\n",
    "# FREQUENCY ENOCDE\n",
    "encode_FE(X_train,X_test,['card1_addr1','card1_addr1_P_emaildomain'])\n",
    "# GROUP AGGREGATE\n",
    "encode_AG(['TransactionAmt','D9','D11'],['card1','card1_addr1','card1_addr1_P_emaildomain'],['mean','std'],usena=True)"
   ]
  },
  {
   "cell_type": "markdown",
   "metadata": {},
   "source": [
    "# Feature Selection - Time Consistency"
   ]
  },
  {
   "cell_type": "markdown",
   "metadata": {},
   "source": [
    "We added 28 new feature above. We have already removed 219 V Columns from correlation analysis. So we currently have 242 features now. We will now check each of our 242 for \"time consistency\". We will build 242 models. Each model will be trained on the first month of the training data and will only use one feature. We will then predict the last month of the training data. We want both training AUC and validation AUC to be above AUC = 0.5. It turns out that 19 features fail this test so we will remove them. Additionally we will remove 7 D columns that are mostly NAN. More techniques for feature selection are listed here"
   ]
  },
  {
   "cell_type": "code",
   "execution_count": 46,
   "metadata": {
    "execution": {
     "iopub.execute_input": "2021-05-22T16:44:11.846843Z",
     "iopub.status.busy": "2021-05-22T16:44:11.846377Z",
     "iopub.status.idle": "2021-05-22T16:44:11.855069Z",
     "shell.execute_reply": "2021-05-22T16:44:11.854177Z",
     "shell.execute_reply.started": "2021-05-22T16:44:11.846793Z"
    }
   },
   "outputs": [],
   "source": [
    "cols = list( X_train.columns )\n",
    "cols.remove('TransactionDT')\n",
    "for c in ['D6','D7','D8','D9','D12','D13','D14']:\n",
    "    cols.remove(c)\n",
    "    \n",
    "# FAILED TIME CONSISTENCY TEST\n",
    "for c in ['C3','M5','id_08','id_33']:\n",
    "    cols.remove(c)\n",
    "for c in ['card4','id_07','id_14','id_21','id_30','id_32','id_34']:\n",
    "    cols.remove(c)\n",
    "for c in ['id_'+str(x) for x in range(22,28)]:\n",
    "    cols.remove(c)"
   ]
  },
  {
   "cell_type": "code",
   "execution_count": 47,
   "metadata": {
    "execution": {
     "iopub.execute_input": "2021-05-22T16:44:11.856826Z",
     "iopub.status.busy": "2021-05-22T16:44:11.856384Z",
     "iopub.status.idle": "2021-05-22T16:44:11.869174Z",
     "shell.execute_reply": "2021-05-22T16:44:11.868185Z",
     "shell.execute_reply.started": "2021-05-22T16:44:11.856657Z"
    }
   },
   "outputs": [
    {
     "name": "stdout",
     "output_type": "stream",
     "text": [
      "NOW USING THE FOLLOWING 216 FEATURES.\n"
     ]
    },
    {
     "data": {
      "text/plain": [
       "array(['TransactionAmt', 'ProductCD', 'card1', 'card2', 'card3', 'card5',\n",
       "       'card6', 'addr1', 'addr2', 'dist1', 'dist2', 'P_emaildomain',\n",
       "       'R_emaildomain', 'C1', 'C2', 'C4', 'C5', 'C6', 'C7', 'C8', 'C9',\n",
       "       'C10', 'C11', 'C12', 'C13', 'C14', 'D1', 'D2', 'D3', 'D4', 'D5',\n",
       "       'D10', 'D11', 'D15', 'M1', 'M2', 'M3', 'M4', 'M6', 'M7', 'M8',\n",
       "       'M9', 'V1', 'V3', 'V4', 'V6', 'V8', 'V11', 'V13', 'V14', 'V17',\n",
       "       'V20', 'V23', 'V26', 'V27', 'V30', 'V36', 'V37', 'V40', 'V41',\n",
       "       'V44', 'V47', 'V48', 'V54', 'V56', 'V59', 'V62', 'V65', 'V67',\n",
       "       'V68', 'V70', 'V76', 'V78', 'V80', 'V82', 'V86', 'V88', 'V89',\n",
       "       'V91', 'V107', 'V108', 'V111', 'V115', 'V117', 'V120', 'V121',\n",
       "       'V123', 'V124', 'V127', 'V129', 'V130', 'V136', 'V138', 'V139',\n",
       "       'V142', 'V147', 'V156', 'V160', 'V162', 'V165', 'V166', 'V169',\n",
       "       'V171', 'V173', 'V175', 'V176', 'V178', 'V180', 'V182', 'V185',\n",
       "       'V187', 'V188', 'V198', 'V203', 'V205', 'V207', 'V209', 'V210',\n",
       "       'V215', 'V218', 'V220', 'V221', 'V223', 'V224', 'V226', 'V228',\n",
       "       'V229', 'V234', 'V235', 'V238', 'V240', 'V250', 'V252', 'V253',\n",
       "       'V257', 'V258', 'V260', 'V261', 'V264', 'V266', 'V267', 'V271',\n",
       "       'V274', 'V277', 'V281', 'V283', 'V284', 'V285', 'V286', 'V289',\n",
       "       'V291', 'V294', 'V296', 'V297', 'V301', 'V303', 'V305', 'V307',\n",
       "       'V309', 'V310', 'V314', 'V320', 'id_01', 'id_02', 'id_03', 'id_04',\n",
       "       'id_05', 'id_06', 'id_09', 'id_10', 'id_11', 'id_12', 'id_13',\n",
       "       'id_15', 'id_16', 'id_17', 'id_18', 'id_19', 'id_20', 'id_28',\n",
       "       'id_29', 'id_31', 'id_35', 'id_36', 'id_37', 'id_38', 'DeviceType',\n",
       "       'DeviceInfo', 'cents', 'addr1_FE', 'card1_FE', 'card2_FE',\n",
       "       'card3_FE', 'P_emaildomain_FE', 'card1_addr1',\n",
       "       'card1_addr1_P_emaildomain', 'card1_addr1_FE',\n",
       "       'card1_addr1_P_emaildomain_FE', 'TransactionAmt_card1_mean',\n",
       "       'TransactionAmt_card1_std', 'TransactionAmt_card1_addr1_mean',\n",
       "       'TransactionAmt_card1_addr1_std',\n",
       "       'TransactionAmt_card1_addr1_P_emaildomain_mean',\n",
       "       'TransactionAmt_card1_addr1_P_emaildomain_std', 'D9_card1_mean',\n",
       "       'D9_card1_std', 'D9_card1_addr1_mean', 'D9_card1_addr1_std',\n",
       "       'D9_card1_addr1_P_emaildomain_mean',\n",
       "       'D9_card1_addr1_P_emaildomain_std', 'D11_card1_mean',\n",
       "       'D11_card1_std', 'D11_card1_addr1_mean', 'D11_card1_addr1_std',\n",
       "       'D11_card1_addr1_P_emaildomain_mean',\n",
       "       'D11_card1_addr1_P_emaildomain_std'], dtype='<U45')"
      ]
     },
     "execution_count": 47,
     "metadata": {},
     "output_type": "execute_result"
    }
   ],
   "source": [
    "print('NOW USING THE FOLLOWING',len(cols),'FEATURES.')\n",
    "np.array(cols)"
   ]
  },
  {
   "cell_type": "markdown",
   "metadata": {},
   "source": [
    "# Feature Engineering - UID\n",
    "We create a UID which will help our model find clients (credit cards). This UID isn't perfect. Many UID values contain 2 or more clients inside. However our model will detect this and by adding more splits with its trees, it will split these UIDs and find the single clients (credit cards)."
   ]
  },
  {
   "cell_type": "code",
   "execution_count": 48,
   "metadata": {
    "execution": {
     "iopub.execute_input": "2021-05-22T16:44:11.871263Z",
     "iopub.status.busy": "2021-05-22T16:44:11.870757Z",
     "iopub.status.idle": "2021-05-22T16:44:13.847238Z",
     "shell.execute_reply": "2021-05-22T16:44:13.846405Z",
     "shell.execute_reply.started": "2021-05-22T16:44:11.871008Z"
    }
   },
   "outputs": [],
   "source": [
    "X_train['day'] = X_train.TransactionDT / (24*60*60)\n",
    "X_train['uid'] = X_train.card1_addr1.astype(str)+'_'+np.floor(X_train.day-X_train.D1).astype(str)\n",
    "\n",
    "X_test['day'] = X_test.TransactionDT / (24*60*60)\n",
    "X_test['uid'] = X_test.card1_addr1.astype(str)+'_'+np.floor(X_test.day-X_test.D1).astype(str)"
   ]
  },
  {
   "cell_type": "code",
   "execution_count": 49,
   "metadata": {
    "execution": {
     "iopub.execute_input": "2021-05-22T16:44:13.849007Z",
     "iopub.status.busy": "2021-05-22T16:44:13.848718Z",
     "iopub.status.idle": "2021-05-22T16:44:16.151352Z",
     "shell.execute_reply": "2021-05-22T16:44:16.150588Z",
     "shell.execute_reply.started": "2021-05-22T16:44:13.848963Z"
    }
   },
   "outputs": [],
   "source": [
    "import datetime\n",
    "START_DATE = datetime.datetime.strptime('2017-11-30', '%Y-%m-%d')\n",
    "X_train['DT_M'] = X_train['TransactionDT'].apply(lambda x: (START_DATE + datetime.timedelta(seconds = x)))\n",
    "X_train['DT_M'] = (X_train['DT_M'].dt.year-2017)*12 + X_train['DT_M'].dt.month \n",
    "\n",
    "X_test['DT_M'] = X_test['TransactionDT'].apply(lambda x: (START_DATE + datetime.timedelta(seconds = x)))\n",
    "X_test['DT_M'] = (X_test['DT_M'].dt.year-2017)*12 + X_test['DT_M'].dt.month"
   ]
  },
  {
   "cell_type": "markdown",
   "metadata": {},
   "source": [
    "# Group Aggregation Features\n",
    "For our model to use the new UID, we need to make lots of aggregated group features. We will add 47 new features! The intuition behind this in the report explains why this works. Note that after aggregation, we remove UID from our model. We don't use UID directly."
   ]
  },
  {
   "cell_type": "code",
   "execution_count": 50,
   "metadata": {
    "execution": {
     "iopub.execute_input": "2021-05-22T16:44:16.153074Z",
     "iopub.status.busy": "2021-05-22T16:44:16.152783Z",
     "iopub.status.idle": "2021-05-22T16:47:42.432224Z",
     "shell.execute_reply": "2021-05-22T16:47:42.431391Z",
     "shell.execute_reply.started": "2021-05-22T16:44:16.153030Z"
    }
   },
   "outputs": [
    {
     "name": "stdout",
     "output_type": "stream",
     "text": [
      "uid_FE , 'TransactionAmt_uid_mean' , 'TransactionAmt_uid_std' , 'D4_uid_mean' , 'D4_uid_std' , 'D9_uid_mean' , 'D9_uid_std' , 'D10_uid_mean' , 'D10_uid_std' , 'D15_uid_mean' , 'D15_uid_std' , 'C1_uid_mean' , 'C2_uid_mean' , 'C4_uid_mean' , 'C5_uid_mean' , 'C6_uid_mean' , 'C7_uid_mean' , 'C8_uid_mean' , 'C9_uid_mean' , 'C10_uid_mean' , 'C11_uid_mean' , 'C12_uid_mean' , 'C13_uid_mean' , 'C14_uid_mean' , 'M1_uid_mean' , 'M2_uid_mean' , 'M3_uid_mean' , 'M4_uid_mean' , 'M5_uid_mean' , 'M6_uid_mean' , 'M7_uid_mean' , 'M8_uid_mean' , 'M9_uid_mean' , uid_P_emaildomain_ct, uid_dist1_ct, uid_DT_M_ct, uid_id_02_ct, uid_cents_ct, 'C14_uid_std' , uid_C13_ct, uid_V314_ct, uid_V127_ct, uid_V136_ct, uid_V309_ct, uid_V307_ct, uid_V320_ct, outsider15\n",
      "CPU times: user 2min 38s, sys: 47.6 s, total: 3min 26s\n",
      "Wall time: 3min 26s\n"
     ]
    }
   ],
   "source": [
    "%%time\n",
    "# FREQUENCY ENCODE UID\n",
    "encode_FE(X_train,X_test,['uid'])\n",
    "# AGGREGATE \n",
    "encode_AG(['TransactionAmt','D4','D9','D10','D15'],['uid'],['mean','std'],fillna=True,usena=True)\n",
    "# AGGREGATE\n",
    "encode_AG(['C'+str(x) for x in range(1,15) if x!=3],['uid'],['mean'],X_train,X_test,fillna=True,usena=True)\n",
    "# AGGREGATE\n",
    "encode_AG(['M'+str(x) for x in range(1,10)],['uid'],['mean'],fillna=True,usena=True)\n",
    "# AGGREGATE\n",
    "encode_AG2(['P_emaildomain','dist1','DT_M','id_02','cents'], ['uid'], train_df=X_train, test_df=X_test)\n",
    "# AGGREGATE\n",
    "encode_AG(['C14'],['uid'],['std'],X_train,X_test,fillna=True,usena=True)\n",
    "# AGGREGATE \n",
    "encode_AG2(['C13','V314'], ['uid'], train_df=X_train, test_df=X_test)\n",
    "# AGGREATE \n",
    "encode_AG2(['V127','V136','V309','V307','V320'], ['uid'], train_df=X_train, test_df=X_test)\n",
    "# NEW FEATURE\n",
    "X_train['outsider15'] = (np.abs(X_train.D1-X_train.D15)>3).astype('int8')\n",
    "X_test['outsider15'] = (np.abs(X_test.D1-X_test.D15)>3).astype('int8')\n",
    "print('outsider15')"
   ]
  },
  {
   "cell_type": "code",
   "execution_count": 51,
   "metadata": {
    "execution": {
     "iopub.execute_input": "2021-05-22T16:47:42.434068Z",
     "iopub.status.busy": "2021-05-22T16:47:42.433612Z",
     "iopub.status.idle": "2021-05-22T16:47:42.441922Z",
     "shell.execute_reply": "2021-05-22T16:47:42.441008Z",
     "shell.execute_reply.started": "2021-05-22T16:47:42.433890Z"
    }
   },
   "outputs": [
    {
     "name": "stdout",
     "output_type": "stream",
     "text": [
      "NOW USING THE FOLLOWING 216 FEATURES.\n"
     ]
    },
    {
     "data": {
      "text/plain": [
       "array(['TransactionAmt', 'ProductCD', 'card1', 'card2', 'card3', 'card5',\n",
       "       'card6', 'addr1', 'addr2', 'dist1', 'dist2', 'P_emaildomain',\n",
       "       'R_emaildomain', 'C1', 'C2', 'C4', 'C5', 'C6', 'C7', 'C8', 'C9',\n",
       "       'C10', 'C11', 'C12', 'C13', 'C14', 'D1', 'D2', 'D3', 'D4', 'D5',\n",
       "       'D10', 'D11', 'D15', 'M1', 'M2', 'M3', 'M4', 'M6', 'M7', 'M8',\n",
       "       'M9', 'V1', 'V3', 'V4', 'V6', 'V8', 'V11', 'V13', 'V14', 'V17',\n",
       "       'V20', 'V23', 'V26', 'V27', 'V30', 'V36', 'V37', 'V40', 'V41',\n",
       "       'V44', 'V47', 'V48', 'V54', 'V56', 'V59', 'V62', 'V65', 'V67',\n",
       "       'V68', 'V70', 'V76', 'V78', 'V80', 'V82', 'V86', 'V88', 'V89',\n",
       "       'V91', 'V107', 'V108', 'V111', 'V115', 'V117', 'V120', 'V121',\n",
       "       'V123', 'V124', 'V127', 'V129', 'V130', 'V136', 'V138', 'V139',\n",
       "       'V142', 'V147', 'V156', 'V160', 'V162', 'V165', 'V166', 'V169',\n",
       "       'V171', 'V173', 'V175', 'V176', 'V178', 'V180', 'V182', 'V185',\n",
       "       'V187', 'V188', 'V198', 'V203', 'V205', 'V207', 'V209', 'V210',\n",
       "       'V215', 'V218', 'V220', 'V221', 'V223', 'V224', 'V226', 'V228',\n",
       "       'V229', 'V234', 'V235', 'V238', 'V240', 'V250', 'V252', 'V253',\n",
       "       'V257', 'V258', 'V260', 'V261', 'V264', 'V266', 'V267', 'V271',\n",
       "       'V274', 'V277', 'V281', 'V283', 'V284', 'V285', 'V286', 'V289',\n",
       "       'V291', 'V294', 'V296', 'V297', 'V301', 'V303', 'V305', 'V307',\n",
       "       'V309', 'V310', 'V314', 'V320', 'id_01', 'id_02', 'id_03', 'id_04',\n",
       "       'id_05', 'id_06', 'id_09', 'id_10', 'id_11', 'id_12', 'id_13',\n",
       "       'id_15', 'id_16', 'id_17', 'id_18', 'id_19', 'id_20', 'id_28',\n",
       "       'id_29', 'id_31', 'id_35', 'id_36', 'id_37', 'id_38', 'DeviceType',\n",
       "       'DeviceInfo', 'cents', 'addr1_FE', 'card1_FE', 'card2_FE',\n",
       "       'card3_FE', 'P_emaildomain_FE', 'card1_addr1',\n",
       "       'card1_addr1_P_emaildomain', 'card1_addr1_FE',\n",
       "       'card1_addr1_P_emaildomain_FE', 'TransactionAmt_card1_mean',\n",
       "       'TransactionAmt_card1_std', 'TransactionAmt_card1_addr1_mean',\n",
       "       'TransactionAmt_card1_addr1_std',\n",
       "       'TransactionAmt_card1_addr1_P_emaildomain_mean',\n",
       "       'TransactionAmt_card1_addr1_P_emaildomain_std', 'D9_card1_mean',\n",
       "       'D9_card1_std', 'D9_card1_addr1_mean', 'D9_card1_addr1_std',\n",
       "       'D9_card1_addr1_P_emaildomain_mean',\n",
       "       'D9_card1_addr1_P_emaildomain_std', 'D11_card1_mean',\n",
       "       'D11_card1_std', 'D11_card1_addr1_mean', 'D11_card1_addr1_std',\n",
       "       'D11_card1_addr1_P_emaildomain_mean',\n",
       "       'D11_card1_addr1_P_emaildomain_std'], dtype='<U45')"
      ]
     },
     "execution_count": 51,
     "metadata": {},
     "output_type": "execute_result"
    }
   ],
   "source": [
    "print('NOW USING THE FOLLOWING',len(cols),'FEATURES.')\n",
    "np.array(cols)"
   ]
  },
  {
   "cell_type": "markdown",
   "metadata": {},
   "source": [
    "# Local Validation"
   ]
  },
  {
   "cell_type": "code",
   "execution_count": 52,
   "metadata": {
    "execution": {
     "iopub.execute_input": "2021-05-22T16:47:42.443925Z",
     "iopub.status.busy": "2021-05-22T16:47:42.443403Z",
     "iopub.status.idle": "2021-05-22T16:47:42.452854Z",
     "shell.execute_reply": "2021-05-22T16:47:42.451823Z",
     "shell.execute_reply.started": "2021-05-22T16:47:42.443817Z"
    }
   },
   "outputs": [],
   "source": [
    "import xgboost as xgb\n",
    "\n",
    "# TRAIN 75% PREDICT 25%\n",
    "idxT = X_train.index[:3*len(X_train)//4]\n",
    "idxV = X_train.index[3*len(X_train)//4:]"
   ]
  },
  {
   "cell_type": "code",
   "execution_count": 53,
   "metadata": {
    "execution": {
     "iopub.execute_input": "2021-05-22T16:47:42.454989Z",
     "iopub.status.busy": "2021-05-22T16:47:42.454484Z",
     "iopub.status.idle": "2021-05-22T16:48:43.894486Z",
     "shell.execute_reply": "2021-05-22T16:48:43.893600Z",
     "shell.execute_reply.started": "2021-05-22T16:47:42.454788Z"
    }
   },
   "outputs": [
    {
     "name": "stdout",
     "output_type": "stream",
     "text": [
      "[0]\tvalidation_0-auc:0.787465\n",
      "Will train until validation_0-auc hasn't improved in 100 rounds.\n",
      "[50]\tvalidation_0-auc:0.87831\n",
      "[100]\tvalidation_0-auc:0.894946\n",
      "[150]\tvalidation_0-auc:0.908081\n",
      "[200]\tvalidation_0-auc:0.919298\n",
      "[250]\tvalidation_0-auc:0.926025\n",
      "[300]\tvalidation_0-auc:0.930295\n",
      "[350]\tvalidation_0-auc:0.933587\n",
      "[400]\tvalidation_0-auc:0.934809\n",
      "[450]\tvalidation_0-auc:0.935666\n",
      "[500]\tvalidation_0-auc:0.936271\n",
      "[550]\tvalidation_0-auc:0.93604\n",
      "[600]\tvalidation_0-auc:0.936234\n",
      "Stopping. Best iteration:\n",
      "[508]\tvalidation_0-auc:0.936293\n",
      "\n"
     ]
    }
   ],
   "source": [
    "clf = xgb.XGBClassifier( \n",
    "        n_estimators=2000,\n",
    "        max_depth=12, \n",
    "        learning_rate=0.02, \n",
    "        subsample=0.8,\n",
    "        colsample_bytree=0.4, \n",
    "        missing=-1, \n",
    "        eval_metric='auc',\n",
    "        #nthread=4,\n",
    "        #tree_method='hist' \n",
    "        tree_method='gpu_hist' \n",
    "    )\n",
    "h = clf.fit(X_train.loc[idxT,cols], y_train[idxT], \n",
    "    eval_set=[(X_train.loc[idxV,cols],y_train[idxV])],\n",
    "    verbose=50, early_stopping_rounds=100)"
   ]
  },
  {
   "cell_type": "code",
   "execution_count": 54,
   "metadata": {
    "execution": {
     "iopub.execute_input": "2021-05-22T16:48:43.896359Z",
     "iopub.status.busy": "2021-05-22T16:48:43.896032Z",
     "iopub.status.idle": "2021-05-22T16:48:47.270193Z",
     "shell.execute_reply": "2021-05-22T16:48:47.269516Z",
     "shell.execute_reply.started": "2021-05-22T16:48:43.896293Z"
    }
   },
   "outputs": [
    {
     "data": {
      "image/png": "[encoded data removed]",
      "text/plain": [
       "<Figure size 1440x720 with 1 Axes>"
      ]
     },
     "metadata": {
      "needs_background": "light"
     },
     "output_type": "display_data"
    }
   ],
   "source": [
    "feature_imp = pd.DataFrame(sorted(zip(clf.feature_importances_,cols)), columns=['Value','Feature'])\n",
    "\n",
    "plt.figure(figsize=(20, 10))\n",
    "sns.barplot(x=\"Value\", y=\"Feature\", data=feature_imp.sort_values(by=\"Value\", ascending=False).iloc[:50])\n",
    "plt.title('XGB96 Most Important')\n",
    "plt.tight_layout()\n",
    "plt.show()\n",
    "        \n",
    "del clf, h; x=gc.collect()"
   ]
  },
  {
   "cell_type": "markdown",
   "metadata": {},
   "source": [
    "# Predict test.csv"
   ]
  },
  {
   "cell_type": "code",
   "execution_count": 55,
   "metadata": {
    "execution": {
     "iopub.execute_input": "2021-05-22T16:48:47.272245Z",
     "iopub.status.busy": "2021-05-22T16:48:47.271838Z",
     "iopub.status.idle": "2021-05-22T16:57:20.258751Z",
     "shell.execute_reply": "2021-05-22T16:57:20.257880Z",
     "shell.execute_reply.started": "2021-05-22T16:48:47.272079Z"
    }
   },
   "outputs": [
    {
     "name": "stdout",
     "output_type": "stream",
     "text": [
      "Fold 0 withholding month 12\n",
      " rows of train = 453219 rows of holdout = 137321\n",
      "[0]\tvalidation_0-auc:0.757194\n",
      "Will train until validation_0-auc hasn't improved in 200 rounds.\n",
      "[100]\tvalidation_0-auc:0.871341\n",
      "[200]\tvalidation_0-auc:0.892256\n",
      "[300]\tvalidation_0-auc:0.903352\n",
      "[400]\tvalidation_0-auc:0.907912\n",
      "[500]\tvalidation_0-auc:0.908055\n",
      "[600]\tvalidation_0-auc:0.907959\n",
      "Stopping. Best iteration:\n",
      "[417]\tvalidation_0-auc:0.908466\n",
      "\n",
      "Fold 1 withholding month 15\n",
      " rows of train = 488908 rows of holdout = 101632\n",
      "[0]\tvalidation_0-auc:0.832247\n",
      "Will train until validation_0-auc hasn't improved in 200 rounds.\n",
      "[100]\tvalidation_0-auc:0.906459\n",
      "[200]\tvalidation_0-auc:0.929275\n",
      "[300]\tvalidation_0-auc:0.940543\n",
      "[400]\tvalidation_0-auc:0.944592\n",
      "[500]\tvalidation_0-auc:0.946015\n",
      "[600]\tvalidation_0-auc:0.94661\n",
      "[700]\tvalidation_0-auc:0.946441\n",
      "[800]\tvalidation_0-auc:0.946432\n",
      "Stopping. Best iteration:\n",
      "[601]\tvalidation_0-auc:0.946614\n",
      "\n",
      "Fold 2 withholding month 13\n",
      " rows of train = 497955 rows of holdout = 92585\n",
      "[0]\tvalidation_0-auc:0.809112\n",
      "Will train until validation_0-auc hasn't improved in 200 rounds.\n",
      "[100]\tvalidation_0-auc:0.904115\n",
      "[200]\tvalidation_0-auc:0.923923\n",
      "[300]\tvalidation_0-auc:0.936195\n",
      "[400]\tvalidation_0-auc:0.940972\n",
      "[500]\tvalidation_0-auc:0.942581\n",
      "[600]\tvalidation_0-auc:0.942658\n",
      "[700]\tvalidation_0-auc:0.942671\n",
      "[800]\tvalidation_0-auc:0.94245\n",
      "Stopping. Best iteration:\n",
      "[647]\tvalidation_0-auc:0.943013\n",
      "\n",
      "Fold 3 withholding month 17\n",
      " rows of train = 501214 rows of holdout = 89326\n",
      "[0]\tvalidation_0-auc:0.805903\n",
      "Will train until validation_0-auc hasn't improved in 200 rounds.\n",
      "[100]\tvalidation_0-auc:0.900972\n",
      "[200]\tvalidation_0-auc:0.925726\n",
      "[300]\tvalidation_0-auc:0.936672\n",
      "[400]\tvalidation_0-auc:0.941826\n",
      "[500]\tvalidation_0-auc:0.943173\n",
      "[600]\tvalidation_0-auc:0.943246\n",
      "[700]\tvalidation_0-auc:0.942995\n",
      "Stopping. Best iteration:\n",
      "[535]\tvalidation_0-auc:0.943457\n",
      "\n",
      "Fold 4 withholding month 14\n",
      " rows of train = 504519 rows of holdout = 86021\n",
      "[0]\tvalidation_0-auc:0.845517\n",
      "Will train until validation_0-auc hasn't improved in 200 rounds.\n",
      "[100]\tvalidation_0-auc:0.920878\n",
      "[200]\tvalidation_0-auc:0.940643\n",
      "[300]\tvalidation_0-auc:0.949253\n",
      "[400]\tvalidation_0-auc:0.951569\n",
      "[500]\tvalidation_0-auc:0.951817\n",
      "[600]\tvalidation_0-auc:0.951515\n",
      "Stopping. Best iteration:\n",
      "[441]\tvalidation_0-auc:0.951908\n",
      "\n",
      "Fold 5 withholding month 16\n",
      " rows of train = 506885 rows of holdout = 83655\n",
      "[0]\tvalidation_0-auc:0.804213\n",
      "Will train until validation_0-auc hasn't improved in 200 rounds.\n",
      "[100]\tvalidation_0-auc:0.909077\n",
      "[200]\tvalidation_0-auc:0.936265\n",
      "[300]\tvalidation_0-auc:0.949284\n",
      "[400]\tvalidation_0-auc:0.954733\n",
      "[500]\tvalidation_0-auc:0.956509\n",
      "[600]\tvalidation_0-auc:0.957115\n",
      "[700]\tvalidation_0-auc:0.957822\n",
      "[800]\tvalidation_0-auc:0.957817\n",
      "[900]\tvalidation_0-auc:0.957933\n",
      "[1000]\tvalidation_0-auc:0.957973\n",
      "[1100]\tvalidation_0-auc:0.957972\n",
      "Stopping. Best iteration:\n",
      "[962]\tvalidation_0-auc:0.958189\n",
      "\n",
      "####################\n",
      "XGB96 OOF CV= 0.9398187466957928\n"
     ]
    }
   ],
   "source": [
    "oof = np.zeros(len(X_train))\n",
    "preds = np.zeros(len(X_test))\n",
    "\n",
    "skf = GroupKFold(n_splits=6)\n",
    "for i, (idxT, idxV) in enumerate( skf.split(X_train, y_train, groups=X_train['DT_M']) ):\n",
    "    month = X_train.iloc[idxV]['DT_M'].iloc[0]\n",
    "    print('Fold',i,'withholding month',month)\n",
    "    print(' rows of train =',len(idxT),'rows of holdout =',len(idxV))\n",
    "    clf = xgb.XGBClassifier(\n",
    "        n_estimators=5000,\n",
    "        max_depth=12,\n",
    "        learning_rate=0.02,\n",
    "        subsample=0.8,\n",
    "        colsample_bytree=0.4,\n",
    "        missing=-1,\n",
    "        eval_metric='auc',\n",
    "        # USE CPU\n",
    "        #nthread=4,\n",
    "        #tree_method='hist'\n",
    "        # USE GPU\n",
    "        tree_method='gpu_hist' \n",
    "    )        \n",
    "    h = clf.fit(X_train[cols].iloc[idxT], y_train.iloc[idxT], \n",
    "            eval_set=[(X_train[cols].iloc[idxV],y_train.iloc[idxV])],\n",
    "            verbose=100, early_stopping_rounds=200)\n",
    "    \n",
    "    oof[idxV] += clf.predict_proba(X_train[cols].iloc[idxV])[:,1]\n",
    "    preds += clf.predict_proba(X_test[cols])[:,1]/skf.n_splits\n",
    "    del h, clf\n",
    "    x=gc.collect()\n",
    "print('#'*20)\n",
    "print ('XGB96 OOF CV=',roc_auc_score(y_train,oof))"
   ]
  },
  {
   "cell_type": "code",
   "execution_count": 56,
   "metadata": {
    "execution": {
     "iopub.execute_input": "2021-05-22T16:57:20.260420Z",
     "iopub.status.busy": "2021-05-22T16:57:20.260127Z",
     "iopub.status.idle": "2021-05-22T16:57:25.051766Z",
     "shell.execute_reply": "2021-05-22T16:57:25.050806Z",
     "shell.execute_reply.started": "2021-05-22T16:57:20.260362Z"
    }
   },
   "outputs": [
    {
     "data": {
      "image/png": "[encoded data removed]",
      "text/plain": [
       "<Figure size 432x288 with 1 Axes>"
      ]
     },
     "metadata": {
      "needs_background": "light"
     },
     "output_type": "display_data"
    }
   ],
   "source": [
    "plt.hist(oof,bins=100)\n",
    "plt.ylim((0,5000))\n",
    "plt.title('XGB OOF')\n",
    "plt.show()\n",
    "\n",
    "X_train['oof'] = oof\n",
    "X_train.reset_index(inplace=True)\n",
    "X_train[['TransactionID','oof']].to_csv('oof_xgb_96.csv')\n",
    "X_train.set_index('TransactionID',drop=True,inplace=True)"
   ]
  },
  {
   "cell_type": "markdown",
   "metadata": {},
   "source": [
    "# Kaggle Submission"
   ]
  },
  {
   "cell_type": "code",
   "execution_count": 57,
   "metadata": {
    "execution": {
     "iopub.execute_input": "2021-05-22T16:57:25.053499Z",
     "iopub.status.busy": "2021-05-22T16:57:25.053206Z",
     "iopub.status.idle": "2021-05-22T16:57:28.138816Z",
     "shell.execute_reply": "2021-05-22T16:57:28.138132Z",
     "shell.execute_reply.started": "2021-05-22T16:57:25.053448Z"
    }
   },
   "outputs": [
    {
     "data": {
      "image/png": "[encoded data removed]",
      "text/plain": [
       "<Figure size 432x288 with 1 Axes>"
      ]
     },
     "metadata": {
      "needs_background": "light"
     },
     "output_type": "display_data"
    }
   ],
   "source": [
    "sample_submission = pd.read_csv('../input/ieee-fraud-detection/sample_submission.csv')\n",
    "sample_submission.isFraud = preds\n",
    "sample_submission.to_csv('sub_xgb_96.csv',index=False)\n",
    "\n",
    "plt.hist(sample_submission.isFraud,bins=100)\n",
    "plt.ylim((0,5000))\n",
    "plt.title('XGB96 Submission')\n",
    "plt.show()"
   ]
  }
 ],
 "metadata": {
  "kernelspec": {
   "display_name": "Python 3",
   "language": "python",
   "name": "python3"
  },
  "language_info": {
   "codemirror_mode": {
    "name": "ipython",
    "version": 3
   },
   "file_extension": ".py",
   "mimetype": "text/x-python",
   "name": "python",
   "nbconvert_exporter": "python",
   "pygments_lexer": "ipython3",
   "version": "3.8.3"
  }
 },
 "nbformat": 4,
 "nbformat_minor": 4
}
